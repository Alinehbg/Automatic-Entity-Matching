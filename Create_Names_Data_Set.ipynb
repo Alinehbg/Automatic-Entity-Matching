{
  "cells": [
    {
      "cell_type": "code",
      "source": [
        "from google.colab import drive\n",
        "drive.mount('/content/drive')"
      ],
      "metadata": {
        "id": "bKwhusZZrOLu",
        "outputId": "7cd49e9a-bb1e-4cf7-f0e8-08ca70aab833",
        "colab": {
          "base_uri": "https://localhost:8080/"
        }
      },
      "execution_count": 1,
      "outputs": [
        {
          "output_type": "stream",
          "name": "stdout",
          "text": [
            "Mounted at /content/drive\n"
          ]
        }
      ]
    },
    {
      "cell_type": "code",
      "execution_count": 2,
      "metadata": {
        "id": "PGVdC2zoVCeE"
      },
      "outputs": [],
      "source": [
        "import requests\n",
        "import pandas as pd\n",
        "import os\n",
        "import json\n",
        "from tqdm import tqdm\n",
        "import time\n",
        "import datetime"
      ]
    },
    {
      "cell_type": "code",
      "execution_count": 3,
      "metadata": {
        "id": "6d5mnOB_N2wt"
      },
      "outputs": [],
      "source": [
        "names_chunk = pd.read_csv('/content/drive/MyDrive/CRP/Datasets/Names_list.csv', chunksize = 10, nrows = 100)\n",
        "json_dir = '/content/drive/MyDrive/CRP/Datasets/JSON/'"
      ]
    },
    {
      "cell_type": "code",
      "source": [
        "def Merge(dict1, dict2):\n",
        "  return(dict1.update(dict2))"
      ],
      "metadata": {
        "id": "f79vIVifuJbD"
      },
      "execution_count": 4,
      "outputs": []
    },
    {
      "cell_type": "markdown",
      "source": [
        "# Functions"
      ],
      "metadata": {
        "id": "h2OdwWgvvwkE"
      }
    },
    {
      "cell_type": "code",
      "source": [
        "def get_first_name(name):  \n",
        "  # Opening JSON file\n",
        "  f = open(json_dir + 'first_names.json')    \n",
        "  # returns JSON object as \n",
        "  # a dictionary\n",
        "  names = json.load(f)\n",
        "  # Iterating through the json\n",
        "  alts = names[name]\n",
        "  # Closing file\n",
        "  f.close()\n",
        "  return alts"
      ],
      "metadata": {
        "id": "QlIet2mSs4cB"
      },
      "execution_count": 5,
      "outputs": []
    },
    {
      "cell_type": "code",
      "source": [
        "def get_last_name(name):  \n",
        "  # Opening JSON file\n",
        "  f = open(json_dir + 'last_names.json')    \n",
        "  # returns JSON object as \n",
        "  # a dictionary\n",
        "  names = json.load(f)\n",
        "  # Iterating through the json\n",
        "  alts = names[name]\n",
        "  # Closing file\n",
        "  f.close()\n",
        "  return alts"
      ],
      "metadata": {
        "id": "GoKMHwy9tfqy"
      },
      "execution_count": 6,
      "outputs": []
    },
    {
      "cell_type": "code",
      "source": [
        "def similar_full_names(full_name): \n",
        "  f_name = full_name.split(\" \")[0]\n",
        "  l_name = full_name.split(\" \")[-1]\n",
        "  f_name_list = get_first_name(f_name)\n",
        "  l_name_list = get_last_name(l_name)\n",
        "\n",
        "  full_combo = [ i + \" \" + j for i in f_name_list for j in l_name_list ]\n",
        "  pair = {full_name : full_combo}\n",
        "  return pair"
      ],
      "metadata": {
        "id": "EyQCfHuutlBf"
      },
      "execution_count": 7,
      "outputs": []
    },
    {
      "cell_type": "markdown",
      "metadata": {
        "id": "67upHfNtN9mQ"
      },
      "source": [
        "# Creating Data Set Batches"
      ]
    },
    {
      "cell_type": "code",
      "execution_count": 13,
      "metadata": {
        "id": "JSNiHEuaP5w6",
        "colab": {
          "base_uri": "https://localhost:8080/"
        },
        "outputId": "28092256-1ec7-4a9a-f8c3-81337517cdb7"
      },
      "outputs": [
        {
          "output_type": "stream",
          "name": "stderr",
          "text": [
            "10it [00:00, 23.82it/s]\n"
          ]
        }
      ],
      "source": [
        "i = 0\n",
        "for names in tqdm(names_chunk):\n",
        "  try: \n",
        "    name_list = names['Name'].tolist()\n",
        "    name_dict = {}\n",
        "    for name in name_list: \n",
        "      try:\n",
        "        temp = similar_full_names(name)\n",
        "        Merge(name_dict, temp)\n",
        "      except:\n",
        "        pass\n",
        "    df = pd.DataFrame()\n",
        "\n",
        "    Left = []\n",
        "    Right = []\n",
        "    Match = []\n",
        "\n",
        "    Names = list(name_dict.keys())\n",
        "\n",
        "    for name in Names:\n",
        "      temp = Names\n",
        "      non_names = temp.remove(name)\n",
        "\n",
        "      for alternate in name_dict.get(name):\n",
        "        Left.append(name)\n",
        "        Right.append(alternate)\n",
        "        Match.append(1)\n",
        "      \n",
        "      for non_name in temp:\n",
        "        Left.append(name)\n",
        "        Right.append(non_name)\n",
        "        Match.append(0)\n",
        "        for non_alternate in name_dict.get(non_name):\n",
        "          Left.append(name)\n",
        "          Right.append(non_alternate)\n",
        "          Match.append(0)\n",
        "\n",
        "    #To check\n",
        "    assert len(Left) == len(Right)\n",
        "    assert len(Left) == len(Match)\n",
        "\n",
        "    df['Target_Name'] = Left\n",
        "    df['Alternate_Name'] = Right\n",
        "    df['Match'] = Match\n",
        "    df.to_csv('/content/drive/MyDrive/CRP/Datasets/Batches/PART_' + str(i) + \".csv\")\n",
        "    i += 1\n",
        "  except:\n",
        "        pass"
      ]
    }
  ],
  "metadata": {
    "colab": {
      "provenance": []
    },
    "kernelspec": {
      "display_name": "Python 3 (ipykernel)",
      "language": "python",
      "name": "python3"
    },
    "language_info": {
      "codemirror_mode": {
        "name": "ipython",
        "version": 3
      },
      "file_extension": ".py",
      "mimetype": "text/x-python",
      "name": "python",
      "nbconvert_exporter": "python",
      "pygments_lexer": "ipython3",
      "version": "3.9.12"
    },
    "vscode": {
      "interpreter": {
        "hash": "b1bfb8477c601fb896d8410974a825843d46cafd10934e0894a5fc796219747d"
      }
    }
  },
  "nbformat": 4,
  "nbformat_minor": 0
}