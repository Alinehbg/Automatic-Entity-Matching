{
  "nbformat": 4,
  "nbformat_minor": 0,
  "metadata": {
    "colab": {
      "provenance": [],
      "include_colab_link": true
    },
    "kernelspec": {
      "name": "python3",
      "display_name": "Python 3"
    },
    "language_info": {
      "name": "python"
    }
  },
  "cells": [
    {
      "cell_type": "markdown",
      "metadata": {
        "id": "view-in-github",
        "colab_type": "text"
      },
      "source": [
        "<a href=\"https://colab.research.google.com/github/Alinehbg/CRP/blob/Working_Directory/Extract%20Names/Extract_Wiki_Data_names_try_04.ipynb\" target=\"_parent\"><img src=\"https://colab.research.google.com/assets/colab-badge.svg\" alt=\"Open In Colab\"/></a>"
      ]
    },
    {
      "cell_type": "code",
      "execution_count": 1,
      "metadata": {
        "id": "PGVdC2zoVCeE"
      },
      "outputs": [],
      "source": [
        "#pip install requests\n",
        "import requests"
      ]
    },
    {
      "cell_type": "markdown",
      "source": [
        "####testing requests with get and post"
      ],
      "metadata": {
        "id": "XsjjwuM1No61"
      }
    },
    {
      "cell_type": "code",
      "source": [
        "#USING GET REQUEST\n",
        "test_query = \"\"\"SELECT DISTINCT ?item ?itemLabel WHERE {\n",
        "    ?item rdfs:label \"Baker\"@en;\n",
        "          wdt:P31 wd:Q101352.\n",
        "    SERVICE wikibase:label { bd:serviceParam wikibase:language \"en\". }\n",
        "}\"\"\"\n",
        "\n",
        "#encoded_query = requests.utils.quote(test_query) I dont think we need this\n",
        "url = f'https://query.wikidata.org/sparql?query={test_query}&format=json'\n",
        "response = requests.get(url)\n",
        "\n",
        "data = response.json()\n",
        "data"
      ],
      "metadata": {
        "colab": {
          "base_uri": "https://localhost:8080/"
        },
        "id": "h9dqAMWgJDOJ",
        "outputId": "8d0bcd6a-4ef0-4d91-c265-212362969985"
      },
      "execution_count": 2,
      "outputs": [
        {
          "output_type": "execute_result",
          "data": {
            "text/plain": [
              "{'head': {'vars': ['item', 'itemLabel']},\n",
              " 'results': {'bindings': [{'item': {'type': 'uri',\n",
              "     'value': 'http://www.wikidata.org/entity/Q2658150'},\n",
              "    'itemLabel': {'xml:lang': 'en', 'type': 'literal', 'value': 'Baker'}}]}}"
            ]
          },
          "metadata": {},
          "execution_count": 2
        }
      ]
    },
    {
      "cell_type": "code",
      "source": [
        "#USING POST REQUEST\n",
        "data = {'query': test_query}\n",
        "response = requests.post('https://query.wikidata.org/sparql?format=json', data=data)\n",
        "data = response.json()\n",
        "data\n",
        "\n",
        "# dont think I need to specify the content-type as application/x-www-form-urlencoded while sending post request.\n",
        "# headers = {'content-type': 'application/x-www-form-urlencoded'}\n",
        "# response = requests.post('https://query.wikidata.org/sparql?format=json', data=data,headers=headers)\n"
      ],
      "metadata": {
        "colab": {
          "base_uri": "https://localhost:8080/"
        },
        "id": "jyB-WSMRL9DG",
        "outputId": "1a18286d-0f6e-4dba-884f-11bab6416ad0"
      },
      "execution_count": 3,
      "outputs": [
        {
          "output_type": "execute_result",
          "data": {
            "text/plain": [
              "{'head': {'vars': ['item', 'itemLabel']},\n",
              " 'results': {'bindings': [{'item': {'type': 'uri',\n",
              "     'value': 'http://www.wikidata.org/entity/Q2658150'},\n",
              "    'itemLabel': {'xml:lang': 'en', 'type': 'literal', 'value': 'Baker'}}]}}"
            ]
          },
          "metadata": {},
          "execution_count": 3
        }
      ]
    },
    {
      "cell_type": "code",
      "source": [],
      "metadata": {
        "id": "MyZiuUjkMlrR"
      },
      "execution_count": null,
      "outputs": []
    },
    {
      "cell_type": "code",
      "source": [],
      "metadata": {
        "id": "9JnlLcRmMlxb"
      },
      "execution_count": null,
      "outputs": []
    },
    {
      "cell_type": "markdown",
      "source": [
        "#### All the queries"
      ],
      "metadata": {
        "id": "clMxBeGFNwkM"
      }
    },
    {
      "cell_type": "code",
      "source": [
        "#QUERIES\n",
        "#find female and male politicians\n",
        "male_politicians_query = '''\n",
        "SELECT DISTINCT ?item ?itemLabel WHERE {\n",
        "  SERVICE wikibase:label { bd:serviceParam wikibase:language \"en\". }\n",
        "  {\n",
        "    SELECT DISTINCT ?item ?itemLabel WHERE {\n",
        "      ?item wdt:P106 wd:Q82955; \n",
        "            wdt:P21 wd:Q6581097.\n",
        "    }\n",
        "    ORDER BY RAND()\n",
        "  }\n",
        "  FILTER REGEX(?itemLabel, \"^[A-Za-z]+ [A-Za-z]+$\")\n",
        "}\n",
        "LIMIT 10\n",
        "'''\n",
        "#male Q6581097\n",
        "\n",
        "female_politicians_query = '''\n",
        "SELECT DISTINCT ?item ?itemLabel WHERE {\n",
        "  SERVICE wikibase:label { bd:serviceParam wikibase:language \"en\". }\n",
        "  {\n",
        "    SELECT DISTINCT ?item ?itemLabel WHERE {\n",
        "      ?item wdt:P106 wd:Q82955; \n",
        "            wdt:P21 wd:Q6581072.\n",
        "    }\n",
        "    ORDER BY RAND()\n",
        "  }\n",
        "  FILTER REGEX(?itemLabel, \"^[A-Za-z]+ [A-Za-z]+$\")\n",
        "}\n",
        "LIMIT 10\n",
        "'''\n",
        "#female Q6581072"
      ],
      "metadata": {
        "id": "oeJ6T58OJYpR"
      },
      "execution_count": null,
      "outputs": []
    },
    {
      "cell_type": "code",
      "source": [
        "#Queries\n",
        "\n",
        "SELECT DISTINCT ?item ?itemLabel WHERE {\n",
        "  SERVICE wikibase:label { bd:serviceParam wikibase:language \"[AUTO_LANGUAGE]\". }\n",
        "  {\n",
        "    SELECT DISTINCT ?item WHERE {\n",
        "      ?item p:P460 ?statement0.\n",
        "      ?statement0 (ps:P460/(wdt:P279*)) wd:Q21055025.\n",
        "    }\n",
        "    LIMIT 100\n",
        "  }\n",
        "}"
      ],
      "metadata": {
        "id": "jyQM9wGyNjoG"
      },
      "execution_count": null,
      "outputs": []
    },
    {
      "cell_type": "markdown",
      "source": [
        "#### functions "
      ],
      "metadata": {
        "id": "67upHfNtN9mQ"
      }
    },
    {
      "cell_type": "code",
      "source": [
        "def get_itemlabel(query): \n",
        "  name_list = []\n",
        "  for x in query[\"results\"][\"bindings\"]: \n",
        "    name_list.append(x[\"itemLabel\"][\"value\"])\n",
        "  return name_list\n",
        "\n",
        "def find_fname_id(name): \n",
        "  find_fn_id_query = f'''SELECT DISTINCT ?item ?itemLabel WHERE \n",
        "  {{\n",
        "    ?item rdfs:label \"{name}\"@en;\n",
        "          wdt:P31 wd:Q12308941.\n",
        "    SERVICE wikibase:label {{ bd:serviceParam wikibase:language \"en\". }}\n",
        "  }}\n",
        "  '''\n",
        "  data = {'query': find_fn_id_query}\n",
        "  response = requests.post('https://query.wikidata.org/sparql?format=json', data=data)\n",
        "  res = response.json()\n",
        "  try:\n",
        "      id = res['results']['bindings'][0]['item']['value'].split('/')[-1]\n",
        "  except IndexError:\n",
        "      #print(f\"Cannot find first name id for {name}\")  \n",
        "      id = []  \n",
        "  return id\n",
        "\n",
        "def find_lname_id(name): \n",
        "  find_fn_id_query = f'''SELECT DISTINCT ?item ?itemLabel WHERE \n",
        "  {{\n",
        "    ?item rdfs:label \"{name}\"@en;\n",
        "          wdt:P31 wd:Q101352.\n",
        "    SERVICE wikibase:label {{ bd:serviceParam wikibase:language \"en\". }}\n",
        "  }}\n",
        "  '''\n",
        "  data = {'query': find_fn_id_query}\n",
        "  response = requests.post('https://query.wikidata.org/sparql?format=json', data=data)\n",
        "  res = response.json()\n",
        "  try:\n",
        "      id = res['results']['bindings'][0]['item']['value'].split('/')[-1]\n",
        "  except IndexError:\n",
        "      #print(f\"Cannot find last name id for {name}\")  \n",
        "      id = []  \n",
        "  return id\n",
        "\n",
        "def find_similar_from_id(id): \n",
        "  #find similar names from the ID just found for the target name\n",
        "  id = id\n",
        "  find_similar_query = f\"\"\"\n",
        "  SELECT DISTINCT ?item ?itemLabel WHERE \n",
        "  {{\n",
        "    SERVICE wikibase:label {{ bd:serviceParam wikibase:language \"en\". }}\n",
        "    {{\n",
        "      SELECT DISTINCT ?item WHERE {{\n",
        "        ?item p:P460 ?statement0.\n",
        "        ?statement0 (ps:P460/(wdt:P279*)) wd:{id}.\n",
        "      }}\n",
        "    }}\n",
        "  }}\n",
        "  \"\"\"\n",
        "  data = {'query': find_similar_query}\n",
        "  response = requests.post('https://query.wikidata.org/sparql?format=json', data=data)\n",
        "  res = response.json()\n",
        "  similar_name_list = get_itemlabel(res)\n",
        "  return similar_name_list\n",
        "\n",
        "def similar_full_names(name): \n",
        "  f_name, l_name = name.split(' ')\n",
        "\n",
        "  f_name_id = find_fname_id(f_name)\n",
        "  l_name_id = find_lname_id(l_name)\n",
        "\n",
        "  if f_name_id == []: \n",
        "    fname_similar = []\n",
        "    lname_similar = find_similar_from_id(l_name_id)\n",
        "    fname_list = []\n",
        "    lname_list = [f_name + ' ' + sim_lname for sim_lname in lname_similar]\n",
        "  elif l_name_id == []: \n",
        "    lname_similar = []\n",
        "    print(f_name_id)\n",
        "    fname_similar = find_similar_from_id(f_name_id)\n",
        "    lname_list = []\n",
        "    fname_list = [sim_fname + ' ' + l_name for sim_fname in fname_similar]\n",
        "  else: \n",
        "    fname_similar = find_similar_from_id(f_name_id)\n",
        "    lname_similar = find_similar_from_id(l_name_id)\n",
        "\n",
        "    fname_list = [sim_fname + ' ' + l_name for sim_fname in fname_similar]\n",
        "    lname_list = [f_name + ' ' + sim_lname for sim_lname in lname_similar]\n",
        "  \n",
        "  similar_full_names = fname_list + lname_list\n",
        "  pair = {name: similar_full_names}\n",
        "  return pair\n",
        "\n",
        "def Merge(dict1, dict2):\n",
        "  return(dict2.update(dict1))"
      ],
      "metadata": {
        "id": "QROZ9l8GKICt"
      },
      "execution_count": 4,
      "outputs": []
    },
    {
      "cell_type": "code",
      "source": [
        "name = 'Joshua Baker'\n",
        "print(find_fname_id('Joshua'))\n",
        "print(find_similar_from_id('Q3284319'))\n",
        "print(similar_full_names(name))\n",
        "name1 = 'Ernst Albrecht'\n",
        "print(similar_full_names(name1))"
      ],
      "metadata": {
        "colab": {
          "base_uri": "https://localhost:8080/"
        },
        "id": "73hmRSbuOO8B",
        "outputId": "36945026-ffd2-49e2-b431-a5f87fe98c73"
      },
      "execution_count": null,
      "outputs": [
        {
          "output_type": "stream",
          "name": "stdout",
          "text": [
            "Q3284319\n",
            "['Joshuah', 'Josh', 'Jozue', 'Josua', 'Joosua', 'Yosua', 'Josuah', 'Giosuè', 'Yehoshua']\n",
            "{'Joshua Baker': ['Joshuah Baker', 'Josh Baker', 'Jozue Baker', 'Josua Baker', 'Joosua Baker', 'Yosua Baker', 'Josuah Baker', 'Giosuè Baker', 'Yehoshua Baker', 'Joshua Bäcker', 'Joshua Bakker', 'Joshua Becker', 'Joshua Boulanger', 'Joshua Boulenger']}\n",
            "{'Ernst Albrecht': ['Ernestan Albrecht', 'Ernest Albrecht', 'Ernesto Albrecht', 'Arnošt Albrecht', 'Ernő Albrecht', 'Q111549586 Albrecht', 'Ernst Abel', 'Ernst Albert', 'Ernst Alberto', 'Ernst Avraham', 'Ernst Alberts', 'Ernst Albertus', 'Ernst Albracht', 'Ernst Adelbrecht', 'Ernst Albercht', 'Ernst Allbrecht']}\n"
          ]
        }
      ]
    },
    {
      "cell_type": "markdown",
      "source": [
        "####requests and the rest"
      ],
      "metadata": {
        "id": "GsvaQ5x0N0Zf"
      }
    },
    {
      "cell_type": "code",
      "source": [
        "data = {'query': male_politicians_query}\n",
        "response = requests.post('https://query.wikidata.org/sparql?format=json', data=data)\n",
        "data = response.json()\n",
        "\n",
        "male_politicans = [ x[\"itemLabel\"][\"value\"] for x in data['results']['bindings']]"
      ],
      "metadata": {
        "id": "D6e9a2eqKEEK"
      },
      "execution_count": null,
      "outputs": []
    },
    {
      "cell_type": "code",
      "source": [
        "data = {'query': female_politicians_query}\n",
        "response = requests.post('https://query.wikidata.org/sparql?format=json', data=data)\n",
        "data = response.json()\n",
        "\n",
        "female_politicans = [ x[\"itemLabel\"][\"value\"] for x in data['results']['bindings']]"
      ],
      "metadata": {
        "id": "io6IYnnuKIAZ"
      },
      "execution_count": null,
      "outputs": []
    },
    {
      "cell_type": "code",
      "source": [
        "male_politicans"
      ],
      "metadata": {
        "colab": {
          "base_uri": "https://localhost:8080/"
        },
        "id": "dcmpg1LOPn89",
        "outputId": "06fb8281-178d-4b84-82a5-8807db6d958f"
      },
      "execution_count": null,
      "outputs": [
        {
          "output_type": "execute_result",
          "data": {
            "text/plain": [
              "['Volker Kauder',\n",
              " 'Ernst Uhrlau',\n",
              " 'Carlo Schmid',\n",
              " 'Paul Singer',\n",
              " 'Johannes Janssen',\n",
              " 'Benedict Waldeck',\n",
              " 'Hans Biebow',\n",
              " 'Julius Curtius',\n",
              " 'Max Warburg',\n",
              " 'Arpad Wigand']"
            ]
          },
          "metadata": {},
          "execution_count": 9
        }
      ]
    },
    {
      "cell_type": "code",
      "source": [
        "for name in male_politicans: \n",
        "  print(similar_full_names(name))"
      ],
      "metadata": {
        "colab": {
          "base_uri": "https://localhost:8080/",
          "height": 417
        },
        "id": "Y_Kvh8OlKIGP",
        "outputId": "48a6e18d-0c62-40b4-8104-a97f44e3e9b9"
      },
      "execution_count": null,
      "outputs": [
        {
          "output_type": "stream",
          "name": "stdout",
          "text": [
            "{'Jerzy Hausner': ['Jyrki Hausner', 'Georg Hausner', 'György Hausner', 'Juraj Hausner', 'George Hausner', 'Georgi Hausner', 'Göran Hausner', 'Georges Hausner', 'Jürg Hausner', 'Jurgens Hausner', 'Jure Hausner', 'Jord Hausner', 'Jordi Hausner', 'Georgi Hausner', 'Gheorghe Hausner', 'Jorge Hausner', 'Jiří Hausner', 'Juro Hausner', 'Jurij Hausner', 'Georgios Hausner', 'Giorgio Hausner', 'Gorch Hausner', 'Yuri Hausner', 'Georgius Hausner', 'Jurgen Hausner', 'Juri Hausner', 'Xurde Hausner', 'Giorgi Hausner', 'Yrjö Hausner', 'Jörg Hausner', 'Jerguš Hausner', 'Joris Hausner', 'Jörn Hausner', 'Jur Hausner', 'Corc Hausner', 'Đuro Hausner', 'Jorn Hausner', 'Jyri Hausner', 'Juerg Hausner', 'Yegor Hausner', 'Jüri Hausner', 'Jörgen Hausner', 'Jockel Hausner', 'Đorđe Hausner', 'Georgiy Hausner', 'Jørgen Hausner', 'Georgy Hausner', 'Georgi Hausner', 'Jürgen Hausner', 'Gevorg Hausner', 'Jørn Hausner', 'Jurgis Hausner', 'Đurađ Hausner', 'Georgije Hausner', 'Siôr Hausner', 'Xurxo Hausner', 'Chorche Hausner', 'Yehor Hausner', 'Jerzy Häusner', 'Jerzy Hauser', 'Jerzy Häuser', 'Jerzy Haussner', 'Jerzy Haußner']}\n",
            "{'Roman Giertych': ['Romano Giertych', 'Raman Giertych', 'Romanus Giertych', 'Roman Giertych', 'Romain Giertych', 'Romà Giertych', 'Román Giertych', 'Romāns Giertych', 'Romão Giertych', 'Roman Gertych']}\n",
            "Q686532\n",
            "{'Ivo Sanader': ['Juan Sanader', 'Ivan Sanader', 'Ion Sanader', 'Gian Sanader', 'Giovanni Sanader', 'Hans Sanader', 'Jógvan Sanader', 'Johnny Sanader', 'Johannes Sanader', 'Ieuan Sanader', 'John Sanader', 'Honza Sanader', 'Jean Sanader', 'Yves Sanader', 'Siôn Sanader', 'Yannis Sanader', 'Johan Sanader', 'Jan Sanader', 'Johann Sanader', 'Jon Sanader', 'Evan Sanader', 'Joan Sanader', 'Ioannes Sanader', 'Ioann Sanader', 'Yvon Sanader', 'Yvan Sanader', 'Hannes Sanader', 'Joannes Sanader', 'João Sanader', 'Xoán Sanader', 'Ian Sanader', 'Ivashka Sanader', 'Gianni Sanader', 'Sean Sanader', 'Ioan Sanader', 'Ivan Sanader', 'Jehan Sanader', 'Iwan Sanader', 'Jaan Sanader', 'Yanka Sanader', 'Jón Sanader', 'Erwan Sanader', 'Jóhan Sanader', 'Janka Sanader', 'Hanns Sanader', 'Iwo Sanader', 'Giannis Sanader', 'Ivan Sanader', 'Ioannis Sanader', 'Jóhann Sanader', 'Youenn Sanader', 'Yanni Sanader', 'János Sanader', 'Yann Sanader', 'Jóhannes Sanader', 'Erwann Sanader', 'Seán Sanader', 'Ivano Sanader', 'Ifan Sanader', 'Johannès Sanader', 'Yiannis Sanader', 'Iván Sanader', 'Giovan Sanader', 'Giuàn Sanader', 'Jhoao Sanader']}\n"
          ]
        },
        {
          "output_type": "error",
          "ename": "JSONDecodeError",
          "evalue": "ignored",
          "traceback": [
            "\u001b[0;31m---------------------------------------------------------------------------\u001b[0m",
            "\u001b[0;31mJSONDecodeError\u001b[0m                           Traceback (most recent call last)",
            "\u001b[0;32m<ipython-input-55-0beb812e2abc>\u001b[0m in \u001b[0;36m<module>\u001b[0;34m\u001b[0m\n\u001b[1;32m      1\u001b[0m \u001b[0;32mfor\u001b[0m \u001b[0mname\u001b[0m \u001b[0;32min\u001b[0m \u001b[0mmale_politicans\u001b[0m\u001b[0;34m:\u001b[0m\u001b[0;34m\u001b[0m\u001b[0;34m\u001b[0m\u001b[0m\n\u001b[0;32m----> 2\u001b[0;31m   \u001b[0mprint\u001b[0m\u001b[0;34m(\u001b[0m\u001b[0msimilar_full_names\u001b[0m\u001b[0;34m(\u001b[0m\u001b[0mname\u001b[0m\u001b[0;34m)\u001b[0m\u001b[0;34m)\u001b[0m\u001b[0;34m\u001b[0m\u001b[0;34m\u001b[0m\u001b[0m\n\u001b[0m",
            "\u001b[0;32m<ipython-input-54-af8134f522d9>\u001b[0m in \u001b[0;36msimilar_full_names\u001b[0;34m(name)\u001b[0m\n\u001b[1;32m     65\u001b[0m   \u001b[0mf_name\u001b[0m\u001b[0;34m,\u001b[0m \u001b[0ml_name\u001b[0m \u001b[0;34m=\u001b[0m \u001b[0mname\u001b[0m\u001b[0;34m.\u001b[0m\u001b[0msplit\u001b[0m\u001b[0;34m(\u001b[0m\u001b[0;34m' '\u001b[0m\u001b[0;34m)\u001b[0m\u001b[0;34m\u001b[0m\u001b[0;34m\u001b[0m\u001b[0m\n\u001b[1;32m     66\u001b[0m \u001b[0;34m\u001b[0m\u001b[0m\n\u001b[0;32m---> 67\u001b[0;31m   \u001b[0mf_name_id\u001b[0m \u001b[0;34m=\u001b[0m \u001b[0mfind_fname_id\u001b[0m\u001b[0;34m(\u001b[0m\u001b[0mf_name\u001b[0m\u001b[0;34m)\u001b[0m\u001b[0;34m\u001b[0m\u001b[0;34m\u001b[0m\u001b[0m\n\u001b[0m\u001b[1;32m     68\u001b[0m   \u001b[0ml_name_id\u001b[0m \u001b[0;34m=\u001b[0m \u001b[0mfind_lname_id\u001b[0m\u001b[0;34m(\u001b[0m\u001b[0ml_name\u001b[0m\u001b[0;34m)\u001b[0m\u001b[0;34m\u001b[0m\u001b[0;34m\u001b[0m\u001b[0m\n\u001b[1;32m     69\u001b[0m \u001b[0;34m\u001b[0m\u001b[0m\n",
            "\u001b[0;32m<ipython-input-54-af8134f522d9>\u001b[0m in \u001b[0;36mfind_fname_id\u001b[0;34m(name)\u001b[0m\n\u001b[1;32m     15\u001b[0m   \u001b[0mdata\u001b[0m \u001b[0;34m=\u001b[0m \u001b[0;34m{\u001b[0m\u001b[0;34m'query'\u001b[0m\u001b[0;34m:\u001b[0m \u001b[0mfind_fn_id_query\u001b[0m\u001b[0;34m}\u001b[0m\u001b[0;34m\u001b[0m\u001b[0;34m\u001b[0m\u001b[0m\n\u001b[1;32m     16\u001b[0m   \u001b[0mresponse\u001b[0m \u001b[0;34m=\u001b[0m \u001b[0mrequests\u001b[0m\u001b[0;34m.\u001b[0m\u001b[0mpost\u001b[0m\u001b[0;34m(\u001b[0m\u001b[0;34m'https://query.wikidata.org/sparql?format=json'\u001b[0m\u001b[0;34m,\u001b[0m \u001b[0mdata\u001b[0m\u001b[0;34m=\u001b[0m\u001b[0mdata\u001b[0m\u001b[0;34m)\u001b[0m\u001b[0;34m\u001b[0m\u001b[0;34m\u001b[0m\u001b[0m\n\u001b[0;32m---> 17\u001b[0;31m   \u001b[0mres\u001b[0m \u001b[0;34m=\u001b[0m \u001b[0mresponse\u001b[0m\u001b[0;34m.\u001b[0m\u001b[0mjson\u001b[0m\u001b[0;34m(\u001b[0m\u001b[0;34m)\u001b[0m\u001b[0;34m\u001b[0m\u001b[0;34m\u001b[0m\u001b[0m\n\u001b[0m\u001b[1;32m     18\u001b[0m   \u001b[0;32mtry\u001b[0m\u001b[0;34m:\u001b[0m\u001b[0;34m\u001b[0m\u001b[0;34m\u001b[0m\u001b[0m\n\u001b[1;32m     19\u001b[0m       \u001b[0mid\u001b[0m \u001b[0;34m=\u001b[0m \u001b[0mres\u001b[0m\u001b[0;34m[\u001b[0m\u001b[0;34m'results'\u001b[0m\u001b[0;34m]\u001b[0m\u001b[0;34m[\u001b[0m\u001b[0;34m'bindings'\u001b[0m\u001b[0;34m]\u001b[0m\u001b[0;34m[\u001b[0m\u001b[0;36m0\u001b[0m\u001b[0;34m]\u001b[0m\u001b[0;34m[\u001b[0m\u001b[0;34m'item'\u001b[0m\u001b[0;34m]\u001b[0m\u001b[0;34m[\u001b[0m\u001b[0;34m'value'\u001b[0m\u001b[0;34m]\u001b[0m\u001b[0;34m.\u001b[0m\u001b[0msplit\u001b[0m\u001b[0;34m(\u001b[0m\u001b[0;34m'/'\u001b[0m\u001b[0;34m)\u001b[0m\u001b[0;34m[\u001b[0m\u001b[0;34m-\u001b[0m\u001b[0;36m1\u001b[0m\u001b[0;34m]\u001b[0m\u001b[0;34m\u001b[0m\u001b[0;34m\u001b[0m\u001b[0m\n",
            "\u001b[0;32m/usr/local/lib/python3.8/dist-packages/requests/models.py\u001b[0m in \u001b[0;36mjson\u001b[0;34m(self, **kwargs)\u001b[0m\n\u001b[1;32m    898\u001b[0m                     \u001b[0;31m# used.\u001b[0m\u001b[0;34m\u001b[0m\u001b[0;34m\u001b[0m\u001b[0;34m\u001b[0m\u001b[0m\n\u001b[1;32m    899\u001b[0m                     \u001b[0;32mpass\u001b[0m\u001b[0;34m\u001b[0m\u001b[0;34m\u001b[0m\u001b[0m\n\u001b[0;32m--> 900\u001b[0;31m         \u001b[0;32mreturn\u001b[0m \u001b[0mcomplexjson\u001b[0m\u001b[0;34m.\u001b[0m\u001b[0mloads\u001b[0m\u001b[0;34m(\u001b[0m\u001b[0mself\u001b[0m\u001b[0;34m.\u001b[0m\u001b[0mtext\u001b[0m\u001b[0;34m,\u001b[0m \u001b[0;34m**\u001b[0m\u001b[0mkwargs\u001b[0m\u001b[0;34m)\u001b[0m\u001b[0;34m\u001b[0m\u001b[0;34m\u001b[0m\u001b[0m\n\u001b[0m\u001b[1;32m    901\u001b[0m \u001b[0;34m\u001b[0m\u001b[0m\n\u001b[1;32m    902\u001b[0m     \u001b[0;34m@\u001b[0m\u001b[0mproperty\u001b[0m\u001b[0;34m\u001b[0m\u001b[0;34m\u001b[0m\u001b[0m\n",
            "\u001b[0;32m/usr/lib/python3.8/json/__init__.py\u001b[0m in \u001b[0;36mloads\u001b[0;34m(s, cls, object_hook, parse_float, parse_int, parse_constant, object_pairs_hook, **kw)\u001b[0m\n\u001b[1;32m    355\u001b[0m             \u001b[0mparse_int\u001b[0m \u001b[0;32mis\u001b[0m \u001b[0;32mNone\u001b[0m \u001b[0;32mand\u001b[0m \u001b[0mparse_float\u001b[0m \u001b[0;32mis\u001b[0m \u001b[0;32mNone\u001b[0m \u001b[0;32mand\u001b[0m\u001b[0;34m\u001b[0m\u001b[0;34m\u001b[0m\u001b[0m\n\u001b[1;32m    356\u001b[0m             parse_constant is None and object_pairs_hook is None and not kw):\n\u001b[0;32m--> 357\u001b[0;31m         \u001b[0;32mreturn\u001b[0m \u001b[0m_default_decoder\u001b[0m\u001b[0;34m.\u001b[0m\u001b[0mdecode\u001b[0m\u001b[0;34m(\u001b[0m\u001b[0ms\u001b[0m\u001b[0;34m)\u001b[0m\u001b[0;34m\u001b[0m\u001b[0;34m\u001b[0m\u001b[0m\n\u001b[0m\u001b[1;32m    358\u001b[0m     \u001b[0;32mif\u001b[0m \u001b[0mcls\u001b[0m \u001b[0;32mis\u001b[0m \u001b[0;32mNone\u001b[0m\u001b[0;34m:\u001b[0m\u001b[0;34m\u001b[0m\u001b[0;34m\u001b[0m\u001b[0m\n\u001b[1;32m    359\u001b[0m         \u001b[0mcls\u001b[0m \u001b[0;34m=\u001b[0m \u001b[0mJSONDecoder\u001b[0m\u001b[0;34m\u001b[0m\u001b[0;34m\u001b[0m\u001b[0m\n",
            "\u001b[0;32m/usr/lib/python3.8/json/decoder.py\u001b[0m in \u001b[0;36mdecode\u001b[0;34m(self, s, _w)\u001b[0m\n\u001b[1;32m    335\u001b[0m \u001b[0;34m\u001b[0m\u001b[0m\n\u001b[1;32m    336\u001b[0m         \"\"\"\n\u001b[0;32m--> 337\u001b[0;31m         \u001b[0mobj\u001b[0m\u001b[0;34m,\u001b[0m \u001b[0mend\u001b[0m \u001b[0;34m=\u001b[0m \u001b[0mself\u001b[0m\u001b[0;34m.\u001b[0m\u001b[0mraw_decode\u001b[0m\u001b[0;34m(\u001b[0m\u001b[0ms\u001b[0m\u001b[0;34m,\u001b[0m \u001b[0midx\u001b[0m\u001b[0;34m=\u001b[0m\u001b[0m_w\u001b[0m\u001b[0;34m(\u001b[0m\u001b[0ms\u001b[0m\u001b[0;34m,\u001b[0m \u001b[0;36m0\u001b[0m\u001b[0;34m)\u001b[0m\u001b[0;34m.\u001b[0m\u001b[0mend\u001b[0m\u001b[0;34m(\u001b[0m\u001b[0;34m)\u001b[0m\u001b[0;34m)\u001b[0m\u001b[0;34m\u001b[0m\u001b[0;34m\u001b[0m\u001b[0m\n\u001b[0m\u001b[1;32m    338\u001b[0m         \u001b[0mend\u001b[0m \u001b[0;34m=\u001b[0m \u001b[0m_w\u001b[0m\u001b[0;34m(\u001b[0m\u001b[0ms\u001b[0m\u001b[0;34m,\u001b[0m \u001b[0mend\u001b[0m\u001b[0;34m)\u001b[0m\u001b[0;34m.\u001b[0m\u001b[0mend\u001b[0m\u001b[0;34m(\u001b[0m\u001b[0;34m)\u001b[0m\u001b[0;34m\u001b[0m\u001b[0;34m\u001b[0m\u001b[0m\n\u001b[1;32m    339\u001b[0m         \u001b[0;32mif\u001b[0m \u001b[0mend\u001b[0m \u001b[0;34m!=\u001b[0m \u001b[0mlen\u001b[0m\u001b[0;34m(\u001b[0m\u001b[0ms\u001b[0m\u001b[0;34m)\u001b[0m\u001b[0;34m:\u001b[0m\u001b[0;34m\u001b[0m\u001b[0;34m\u001b[0m\u001b[0m\n",
            "\u001b[0;32m/usr/lib/python3.8/json/decoder.py\u001b[0m in \u001b[0;36mraw_decode\u001b[0;34m(self, s, idx)\u001b[0m\n\u001b[1;32m    353\u001b[0m             \u001b[0mobj\u001b[0m\u001b[0;34m,\u001b[0m \u001b[0mend\u001b[0m \u001b[0;34m=\u001b[0m \u001b[0mself\u001b[0m\u001b[0;34m.\u001b[0m\u001b[0mscan_once\u001b[0m\u001b[0;34m(\u001b[0m\u001b[0ms\u001b[0m\u001b[0;34m,\u001b[0m \u001b[0midx\u001b[0m\u001b[0;34m)\u001b[0m\u001b[0;34m\u001b[0m\u001b[0;34m\u001b[0m\u001b[0m\n\u001b[1;32m    354\u001b[0m         \u001b[0;32mexcept\u001b[0m \u001b[0mStopIteration\u001b[0m \u001b[0;32mas\u001b[0m \u001b[0merr\u001b[0m\u001b[0;34m:\u001b[0m\u001b[0;34m\u001b[0m\u001b[0;34m\u001b[0m\u001b[0m\n\u001b[0;32m--> 355\u001b[0;31m             \u001b[0;32mraise\u001b[0m \u001b[0mJSONDecodeError\u001b[0m\u001b[0;34m(\u001b[0m\u001b[0;34m\"Expecting value\"\u001b[0m\u001b[0;34m,\u001b[0m \u001b[0ms\u001b[0m\u001b[0;34m,\u001b[0m \u001b[0merr\u001b[0m\u001b[0;34m.\u001b[0m\u001b[0mvalue\u001b[0m\u001b[0;34m)\u001b[0m \u001b[0;32mfrom\u001b[0m \u001b[0;32mNone\u001b[0m\u001b[0;34m\u001b[0m\u001b[0;34m\u001b[0m\u001b[0m\n\u001b[0m\u001b[1;32m    356\u001b[0m         \u001b[0;32mreturn\u001b[0m \u001b[0mobj\u001b[0m\u001b[0;34m,\u001b[0m \u001b[0mend\u001b[0m\u001b[0;34m\u001b[0m\u001b[0;34m\u001b[0m\u001b[0m\n",
            "\u001b[0;31mJSONDecodeError\u001b[0m: Expecting value: line 1 column 1 (char 0)"
          ]
        }
      ]
    },
    {
      "cell_type": "code",
      "source": [
        "print(similar_full_names('Ivo Sanader'))"
      ],
      "metadata": {
        "colab": {
          "base_uri": "https://localhost:8080/"
        },
        "id": "HlXRiZj5KELm",
        "outputId": "11ea95f1-d50d-4f8b-fc01-65c524434d85"
      },
      "execution_count": null,
      "outputs": [
        {
          "output_type": "stream",
          "name": "stdout",
          "text": [
            "Q686532\n",
            "{'Ivo Sanader': ['Juan Sanader', 'Ivan Sanader', 'Ion Sanader', 'Gian Sanader', 'Giovanni Sanader', 'Hans Sanader', 'Jógvan Sanader', 'Johnny Sanader', 'Johannes Sanader', 'Ieuan Sanader', 'John Sanader', 'Honza Sanader', 'Jean Sanader', 'Yves Sanader', 'Siôn Sanader', 'Yannis Sanader', 'Johan Sanader', 'Jan Sanader', 'Johann Sanader', 'Jon Sanader', 'Evan Sanader', 'Joan Sanader', 'Ioannes Sanader', 'Ioann Sanader', 'Yvon Sanader', 'Yvan Sanader', 'Hannes Sanader', 'Joannes Sanader', 'João Sanader', 'Xoán Sanader', 'Ian Sanader', 'Ivashka Sanader', 'Gianni Sanader', 'Sean Sanader', 'Ioan Sanader', 'Ivan Sanader', 'Jehan Sanader', 'Iwan Sanader', 'Jaan Sanader', 'Yanka Sanader', 'Jón Sanader', 'Erwan Sanader', 'Jóhan Sanader', 'Janka Sanader', 'Hanns Sanader', 'Iwo Sanader', 'Giannis Sanader', 'Ivan Sanader', 'Ioannis Sanader', 'Jóhann Sanader', 'Youenn Sanader', 'Yanni Sanader', 'János Sanader', 'Yann Sanader', 'Jóhannes Sanader', 'Erwann Sanader', 'Seán Sanader', 'Ivano Sanader', 'Ifan Sanader', 'Johannès Sanader', 'Yiannis Sanader', 'Iván Sanader', 'Giovan Sanader', 'Giuàn Sanader', 'Jhoao Sanader']}\n"
          ]
        }
      ]
    },
    {
      "cell_type": "code",
      "source": [
        "name_list = similar_full_names('Moustafa Abdelal')"
      ],
      "metadata": {
        "id": "XfMDJ-d7KEN4"
      },
      "execution_count": 6,
      "outputs": []
    },
    {
      "cell_type": "code",
      "source": [
        "print(name_list)"
      ],
      "metadata": {
        "id": "Y5rwpKEhqf2z",
        "outputId": "8d341148-0bfc-4cb0-b314-efdb97ed8d14",
        "colab": {
          "base_uri": "https://localhost:8080/"
        }
      },
      "execution_count": 8,
      "outputs": [
        {
          "output_type": "stream",
          "name": "stdout",
          "text": [
            "{'Moustafa Abdelal': ['Mustafa Abdelal', 'Mostafa Abdelal', 'Mustapha Abdelal', 'Moustapha Abdelal', 'Musztafa Abdelal', 'Mostapha Abdelal']}\n"
          ]
        }
      ]
    },
    {
      "cell_type": "code",
      "source": [
        "i = 0\n",
        "target_name = 'Moustafa Abdelal'\n",
        "for i in name_list:\n",
        "  compare_name = name_list[i]\n"
      ],
      "metadata": {
        "id": "EX9sZemBu9SM"
      },
      "execution_count": 38,
      "outputs": []
    },
    {
      "cell_type": "code",
      "source": [
        "target_name = 'Moustafa Abdelal'\n",
        "name_list1 = name_list.get(target_name)\n",
        "matching = []\n",
        "\n",
        "for i in name_list1:\n",
        "    matching.append(1)\n",
        "matching\n",
        "\n",
        "                  "
      ],
      "metadata": {
        "id": "DZSdE4kWKES2",
        "outputId": "9b6a479a-8ff5-4cb3-9df6-710e889b817a",
        "colab": {
          "base_uri": "https://localhost:8080/"
        }
      },
      "execution_count": 39,
      "outputs": [
        {
          "output_type": "execute_result",
          "data": {
            "text/plain": [
              "[1, 1, 1, 1, 1, 1]"
            ]
          },
          "metadata": {},
          "execution_count": 39
        }
      ]
    },
    {
      "cell_type": "code",
      "source": [
        "print( compare_name)\n",
        "print(matching)"
      ],
      "metadata": {
        "id": "aCpWJf9oKEVR",
        "outputId": "6996a9e5-cf81-4547-8b63-f93a6f40af79",
        "colab": {
          "base_uri": "https://localhost:8080/"
        }
      },
      "execution_count": 40,
      "outputs": [
        {
          "output_type": "stream",
          "name": "stdout",
          "text": [
            "['Mustafa Abdelal', 'Mostafa Abdelal', 'Mustapha Abdelal', 'Moustapha Abdelal', 'Musztafa Abdelal', 'Mostapha Abdelal']\n",
            "[1, 1, 1, 1, 1, 1]\n"
          ]
        }
      ]
    },
    {
      "cell_type": "markdown",
      "source": [
        "Creating dictionary "
      ],
      "metadata": {
        "id": "wIme8bmmnKaR"
      }
    },
    {
      "cell_type": "code",
      "source": [
        "# {target_name: key\n",
        "#  compare_name: value (for loop) \n",
        "#  same: 1}"
      ],
      "metadata": {
        "id": "UQLBMoRlooJi"
      },
      "execution_count": null,
      "outputs": []
    },
    {
      "cell_type": "code",
      "source": [
        "# import pandas library\n",
        "import pandas as pd\n",
        "  \n",
        "# dictionary with list object in values\n",
        "details = {\n",
        "    'Name' : target_name,\n",
        "    'Variation Name' : compare_name,\n",
        "    'Match or no match' : matching\n",
        "\n",
        "}\n",
        "  \n",
        "# creating a Dataframe object \n",
        "df = pd.DataFrame(details)\n",
        "  \n",
        "df"
      ],
      "metadata": {
        "id": "Aa9EueaPnP7C",
        "outputId": "f015ef17-6bae-437d-97cc-03373b5e4d65",
        "colab": {
          "base_uri": "https://localhost:8080/",
          "height": 237
        }
      },
      "execution_count": 41,
      "outputs": [
        {
          "output_type": "execute_result",
          "data": {
            "text/plain": [
              "               Name     Variation Name  Match or no match\n",
              "0  Moustafa Abdelal    Mustafa Abdelal                  1\n",
              "1  Moustafa Abdelal    Mostafa Abdelal                  1\n",
              "2  Moustafa Abdelal   Mustapha Abdelal                  1\n",
              "3  Moustafa Abdelal  Moustapha Abdelal                  1\n",
              "4  Moustafa Abdelal   Musztafa Abdelal                  1\n",
              "5  Moustafa Abdelal   Mostapha Abdelal                  1"
            ],
            "text/html": [
              "\n",
              "  <div id=\"df-592689e5-7492-412c-bdfa-f5d06e37714e\">\n",
              "    <div class=\"colab-df-container\">\n",
              "      <div>\n",
              "<style scoped>\n",
              "    .dataframe tbody tr th:only-of-type {\n",
              "        vertical-align: middle;\n",
              "    }\n",
              "\n",
              "    .dataframe tbody tr th {\n",
              "        vertical-align: top;\n",
              "    }\n",
              "\n",
              "    .dataframe thead th {\n",
              "        text-align: right;\n",
              "    }\n",
              "</style>\n",
              "<table border=\"1\" class=\"dataframe\">\n",
              "  <thead>\n",
              "    <tr style=\"text-align: right;\">\n",
              "      <th></th>\n",
              "      <th>Name</th>\n",
              "      <th>Variation Name</th>\n",
              "      <th>Match or no match</th>\n",
              "    </tr>\n",
              "  </thead>\n",
              "  <tbody>\n",
              "    <tr>\n",
              "      <th>0</th>\n",
              "      <td>Moustafa Abdelal</td>\n",
              "      <td>Mustafa Abdelal</td>\n",
              "      <td>1</td>\n",
              "    </tr>\n",
              "    <tr>\n",
              "      <th>1</th>\n",
              "      <td>Moustafa Abdelal</td>\n",
              "      <td>Mostafa Abdelal</td>\n",
              "      <td>1</td>\n",
              "    </tr>\n",
              "    <tr>\n",
              "      <th>2</th>\n",
              "      <td>Moustafa Abdelal</td>\n",
              "      <td>Mustapha Abdelal</td>\n",
              "      <td>1</td>\n",
              "    </tr>\n",
              "    <tr>\n",
              "      <th>3</th>\n",
              "      <td>Moustafa Abdelal</td>\n",
              "      <td>Moustapha Abdelal</td>\n",
              "      <td>1</td>\n",
              "    </tr>\n",
              "    <tr>\n",
              "      <th>4</th>\n",
              "      <td>Moustafa Abdelal</td>\n",
              "      <td>Musztafa Abdelal</td>\n",
              "      <td>1</td>\n",
              "    </tr>\n",
              "    <tr>\n",
              "      <th>5</th>\n",
              "      <td>Moustafa Abdelal</td>\n",
              "      <td>Mostapha Abdelal</td>\n",
              "      <td>1</td>\n",
              "    </tr>\n",
              "  </tbody>\n",
              "</table>\n",
              "</div>\n",
              "      <button class=\"colab-df-convert\" onclick=\"convertToInteractive('df-592689e5-7492-412c-bdfa-f5d06e37714e')\"\n",
              "              title=\"Convert this dataframe to an interactive table.\"\n",
              "              style=\"display:none;\">\n",
              "        \n",
              "  <svg xmlns=\"http://www.w3.org/2000/svg\" height=\"24px\"viewBox=\"0 0 24 24\"\n",
              "       width=\"24px\">\n",
              "    <path d=\"M0 0h24v24H0V0z\" fill=\"none\"/>\n",
              "    <path d=\"M18.56 5.44l.94 2.06.94-2.06 2.06-.94-2.06-.94-.94-2.06-.94 2.06-2.06.94zm-11 1L8.5 8.5l.94-2.06 2.06-.94-2.06-.94L8.5 2.5l-.94 2.06-2.06.94zm10 10l.94 2.06.94-2.06 2.06-.94-2.06-.94-.94-2.06-.94 2.06-2.06.94z\"/><path d=\"M17.41 7.96l-1.37-1.37c-.4-.4-.92-.59-1.43-.59-.52 0-1.04.2-1.43.59L10.3 9.45l-7.72 7.72c-.78.78-.78 2.05 0 2.83L4 21.41c.39.39.9.59 1.41.59.51 0 1.02-.2 1.41-.59l7.78-7.78 2.81-2.81c.8-.78.8-2.07 0-2.86zM5.41 20L4 18.59l7.72-7.72 1.47 1.35L5.41 20z\"/>\n",
              "  </svg>\n",
              "      </button>\n",
              "      \n",
              "  <style>\n",
              "    .colab-df-container {\n",
              "      display:flex;\n",
              "      flex-wrap:wrap;\n",
              "      gap: 12px;\n",
              "    }\n",
              "\n",
              "    .colab-df-convert {\n",
              "      background-color: #E8F0FE;\n",
              "      border: none;\n",
              "      border-radius: 50%;\n",
              "      cursor: pointer;\n",
              "      display: none;\n",
              "      fill: #1967D2;\n",
              "      height: 32px;\n",
              "      padding: 0 0 0 0;\n",
              "      width: 32px;\n",
              "    }\n",
              "\n",
              "    .colab-df-convert:hover {\n",
              "      background-color: #E2EBFA;\n",
              "      box-shadow: 0px 1px 2px rgba(60, 64, 67, 0.3), 0px 1px 3px 1px rgba(60, 64, 67, 0.15);\n",
              "      fill: #174EA6;\n",
              "    }\n",
              "\n",
              "    [theme=dark] .colab-df-convert {\n",
              "      background-color: #3B4455;\n",
              "      fill: #D2E3FC;\n",
              "    }\n",
              "\n",
              "    [theme=dark] .colab-df-convert:hover {\n",
              "      background-color: #434B5C;\n",
              "      box-shadow: 0px 1px 3px 1px rgba(0, 0, 0, 0.15);\n",
              "      filter: drop-shadow(0px 1px 2px rgba(0, 0, 0, 0.3));\n",
              "      fill: #FFFFFF;\n",
              "    }\n",
              "  </style>\n",
              "\n",
              "      <script>\n",
              "        const buttonEl =\n",
              "          document.querySelector('#df-592689e5-7492-412c-bdfa-f5d06e37714e button.colab-df-convert');\n",
              "        buttonEl.style.display =\n",
              "          google.colab.kernel.accessAllowed ? 'block' : 'none';\n",
              "\n",
              "        async function convertToInteractive(key) {\n",
              "          const element = document.querySelector('#df-592689e5-7492-412c-bdfa-f5d06e37714e');\n",
              "          const dataTable =\n",
              "            await google.colab.kernel.invokeFunction('convertToInteractive',\n",
              "                                                     [key], {});\n",
              "          if (!dataTable) return;\n",
              "\n",
              "          const docLinkHtml = 'Like what you see? Visit the ' +\n",
              "            '<a target=\"_blank\" href=https://colab.research.google.com/notebooks/data_table.ipynb>data table notebook</a>'\n",
              "            + ' to learn more about interactive tables.';\n",
              "          element.innerHTML = '';\n",
              "          dataTable['output_type'] = 'display_data';\n",
              "          await google.colab.output.renderOutput(dataTable, element);\n",
              "          const docLink = document.createElement('div');\n",
              "          docLink.innerHTML = docLinkHtml;\n",
              "          element.appendChild(docLink);\n",
              "        }\n",
              "      </script>\n",
              "    </div>\n",
              "  </div>\n",
              "  "
            ]
          },
          "metadata": {},
          "execution_count": 41
        }
      ]
    }
  ]
}