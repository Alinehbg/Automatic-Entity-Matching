{
  "nbformat": 4,
  "nbformat_minor": 0,
  "metadata": {
    "colab": {
      "provenance": [],
      "mount_file_id": "1Io5HgQ7DCfWoIIJWQtyqPk_VY6UjF13H",
      "authorship_tag": "ABX9TyOT+MkY+4OSAq2956sb9pH8",
      "include_colab_link": true
    },
    "kernelspec": {
      "name": "python3",
      "display_name": "Python 3"
    },
    "language_info": {
      "name": "python"
    }
  },
  "cells": [
    {
      "cell_type": "markdown",
      "metadata": {
        "id": "view-in-github",
        "colab_type": "text"
      },
      "source": [
        "<a href=\"https://colab.research.google.com/github/Alinehbg/CRP/blob/Aline_Trial/Siamese_v0.ipynb\" target=\"_parent\"><img src=\"https://colab.research.google.com/assets/colab-badge.svg\" alt=\"Open In Colab\"/></a>"
      ]
    },
    {
      "cell_type": "code",
      "source": [
        "#import everythiiiiing\n",
        "import pandas as pd\n",
        "import numpy as np\n",
        "import torch\n",
        "import torch.nn as nn\n",
        "import torch.optim as optim\n",
        "from torch.utils.data import Dataset, DataLoader"
      ],
      "metadata": {
        "id": "Noja4NDUbX41"
      },
      "execution_count": null,
      "outputs": []
    },
    {
      "cell_type": "code",
      "source": [
        "# Load data\n",
        "df = pd.read_csv(\"/content/drive/MyDrive/CRP/Datasets/FINAL_DF.csv\") "
      ],
      "metadata": {
        "id": "jBFHuYjKbguH"
      },
      "execution_count": null,
      "outputs": []
    },
    {
      "cell_type": "code",
      "source": [
        "class NamesDataset(Dataset):\n",
        "    def __init__(self, data):\n",
        "      \"\"\"It defines a custom PyTorch Dataset class named NamesDataset \n",
        "      for processing a list of names (strings) that will be used for training \n",
        "      a siamese model for text similarity. \n",
        "\n",
        "      1. initializes the dataset and creates a vocabulary set of all the words \n",
        "      in the data list. It also creates a dictionary word2idx that maps each \n",
        "      word to a unique integer index, with indices starting at 2 (0 and 1 are \n",
        "      reserved for padding and unknown words). The method splits each name into \n",
        "      its constituent words, maps each word to its corresponding index in \n",
        "      word2idx, and returns a PyTorch LongTensor of the indices, as well \n",
        "      as a PyTorch FloatTensor with a value of 1.0 (since we are not interested \n",
        "      in the labels, this is just a placeholder).\n",
        "\n",
        "      2. len method returns the length of the data list (==number of names)\n",
        "      \n",
        "      3. getitem__ method is used to retrieve an item from the \n",
        "      dataset at a particular index idx. It returns the LongTensor of word \n",
        "      indices for the name at that index, as well as the FloatTensor with the \n",
        "      value 1.0.\"\"\"\n",
        "      \n",
        "        self.data = data\n",
        "        self.vocab = set()\n",
        "        for name in self.data:\n",
        "            self.vocab.update(name.split())\n",
        "\n",
        "        self.word2idx = {word: i+2 for i, word in enumerate(self.vocab)}\n",
        "        self.word2idx['<PAD>'] = 0\n",
        "        self.word2idx['<UNK>'] = 1\n",
        "\n",
        "    def __len__(self):\n",
        "        return len(self.data)\n",
        "\n",
        "    def __getitem__(self, idx):\n",
        "        name = self.data[idx]\n",
        "        name_words = name.split()\n",
        "        name_idx = [self.word2idx.get(word, 1) for word in name_words]\n",
        "        return torch.LongTensor(name_idx), torch.FloatTensor([1.0])"
      ],
      "metadata": {
        "id": "hPFyPicvb7mP"
      },
      "execution_count": null,
      "outputs": []
    },
    {
      "cell_type": "code",
      "execution_count": null,
      "metadata": {
        "id": "Dw3DWDw-ant-"
      },
      "outputs": [],
      "source": [
        "# Define the LSTM-based siamese model\n",
        "class SiameseLSTM(nn.Module):\n",
        "    def __init__(self, vocab_size, embedding_dim, hidden_dim, output_dim):\n",
        "        super().__init__()\n",
        "        self.embedding = nn.Embedding(vocab_size, embedding_dim)\n",
        "        self.lstm = nn.LSTM(embedding_dim, hidden_dim, num_layers=2, batch_first=True)\n",
        "        self.fc = nn.Linear(hidden_dim, output_dim)\n",
        "\n",
        "    def forward_once(self, x):\n",
        "        x_embedded = self.embedding(x)\n",
        "        _, (h_n, _) = self.lstm(x_embedded)\n",
        "        h_n = h_n[-1]\n",
        "        x_out = self.fc(h_n)\n",
        "        return x_out\n",
        "\n",
        "    def forward(self, x1, x2):\n",
        "        x1_out = self.forward_once(x1)\n",
        "        x2_out = self.forward_once(x2)\n",
        "        cosine_sim = nn.functional.cosine_similarity(x1_out, x2_out, dim=1)\n",
        "        return cosine_sim"
      ]
    },
    {
      "cell_type": "code",
      "source": [
        "# Set the hyperparameters and other variables\n",
        "BATCH_SIZE = 64\n",
        "EMBEDDING_DIM = 100\n",
        "HIDDEN_DIM = 128\n",
        "OUTPUT_DIM = 1\n",
        "LR = 0.001\n",
        "EPOCHS = 1"
      ],
      "metadata": {
        "id": "Y1TN78iIcMSS"
      },
      "execution_count": null,
      "outputs": []
    },
    {
      "cell_type": "code",
      "source": [
        "train_size = int(0.8 * len(df))\n",
        "train_data = df['Name'][:train_size]\n",
        "val_data = df['Name'][train_size:]\n",
        "\n",
        "train_dataset = NamesDataset(train_data)\n",
        "val_dataset = NamesDataset(val_data)\n",
        "\n",
        "train_loader = DataLoader(train_dataset, batch_size=BATCH_SIZE, shuffle=True)\n",
        "val_loader = DataLoader(val_dataset, batch_size=BATCH_SIZE, shuffle=True)\n"
      ],
      "metadata": {
        "id": "yvQqxyjicEc0"
      },
      "execution_count": null,
      "outputs": []
    },
    {
      "cell_type": "code",
      "source": [
        "model = SiameseLSTM(len(train_dataset.vocab), EMBEDDING_DIM, HIDDEN_DIM, OUTPUT_DIM)\n",
        "optimizer = optim.Adam(model.parameters(), lr=LR)\n",
        "criterion = nn.CosineEmbeddingLoss()"
      ],
      "metadata": {
        "id": "iZkAfJDQcQ9N"
      },
      "execution_count": null,
      "outputs": []
    },
    {
      "cell_type": "code",
      "source": [
        "# Train\n",
        "for epoch in range(EPOCHS):\n",
        "    train_loss = 0.0\n",
        "    val_loss = 0.0\n",
        "\n",
        "    model.train()\n",
        "    for x1, x2 in train_loader:\n",
        "        optimizer.zero_grad()\n",
        "\n",
        "        output = model(x1, x2)\n",
        "        labels = x2.view(-1, 1)\n",
        "\n",
        "        loss = criterion(output, labels)\n",
        "        loss.backward()\n",
        "        optimizer.step()\n",
        "\n",
        "        train_loss += loss.item() * x1.size(0)\n",
        "\n",
        "    model"
      ],
      "metadata": {
        "id": "hHds_j10cYGQ"
      },
      "execution_count": null,
      "outputs": []
    }
  ]
}