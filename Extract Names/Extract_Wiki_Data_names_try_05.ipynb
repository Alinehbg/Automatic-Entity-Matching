{
  "nbformat": 4,
  "nbformat_minor": 0,
  "metadata": {
    "colab": {
      "provenance": [],
      "collapsed_sections": [
        "XsjjwuM1No61",
        "67upHfNtN9mQ",
        "clMxBeGFNwkM"
      ],
      "authorship_tag": "ABX9TyNYFWZqEuHwOdwwPxAwLucs",
      "include_colab_link": true
    },
    "kernelspec": {
      "name": "python3",
      "display_name": "Python 3"
    },
    "language_info": {
      "name": "python"
    }
  },
  "cells": [
    {
      "cell_type": "markdown",
      "metadata": {
        "id": "view-in-github",
        "colab_type": "text"
      },
      "source": [
        "<a href=\"https://colab.research.google.com/github/Alinehbg/CRP/blob/Joshua_Trial/Extract%20Names/Extract_Wiki_Data_names_try_05.ipynb\" target=\"_parent\"><img src=\"https://colab.research.google.com/assets/colab-badge.svg\" alt=\"Open In Colab\"/></a>"
      ]
    },
    {
      "cell_type": "code",
      "execution_count": 1,
      "metadata": {
        "id": "PGVdC2zoVCeE"
      },
      "outputs": [],
      "source": [
        "#pip install requests\n",
        "import requests"
      ]
    },
    {
      "cell_type": "markdown",
      "source": [
        "####testing requests with get and post"
      ],
      "metadata": {
        "id": "XsjjwuM1No61"
      }
    },
    {
      "cell_type": "code",
      "source": [
        "#USING GET REQUEST\n",
        "test_query = \"\"\"SELECT DISTINCT ?item ?itemLabel WHERE {\n",
        "    ?item rdfs:label \"Baker\"@en;\n",
        "          wdt:P31 wd:Q101352.\n",
        "    SERVICE wikibase:label { bd:serviceParam wikibase:language \"en\". }\n",
        "}\"\"\"\n",
        "\n",
        "#encoded_query = requests.utils.quote(test_query) I dont think we need this\n",
        "url = f'https://query.wikidata.org/sparql?query={test_query}&format=json'\n",
        "response = requests.get(url)\n",
        "\n",
        "data = response.json()\n",
        "data"
      ],
      "metadata": {
        "colab": {
          "base_uri": "https://localhost:8080/"
        },
        "id": "h9dqAMWgJDOJ",
        "outputId": "215d8c77-3b6f-42ae-dbc6-fb4ba47f9501"
      },
      "execution_count": 2,
      "outputs": [
        {
          "output_type": "execute_result",
          "data": {
            "text/plain": [
              "{'head': {'vars': ['item', 'itemLabel']},\n",
              " 'results': {'bindings': [{'item': {'type': 'uri',\n",
              "     'value': 'http://www.wikidata.org/entity/Q2658150'},\n",
              "    'itemLabel': {'xml:lang': 'en', 'type': 'literal', 'value': 'Baker'}}]}}"
            ]
          },
          "metadata": {},
          "execution_count": 2
        }
      ]
    },
    {
      "cell_type": "code",
      "source": [
        "#USING POST REQUEST\n",
        "data = {'query': test_query}\n",
        "response = requests.post('https://query.wikidata.org/sparql?format=json', data=data)\n",
        "data = response.json()\n",
        "data\n",
        "\n",
        "# dont think I need to specify the content-type as application/x-www-form-urlencoded while sending post request.\n",
        "# headers = {'content-type': 'application/x-www-form-urlencoded'}\n",
        "# response = requests.post('https://query.wikidata.org/sparql?format=json', data=data,headers=headers)\n"
      ],
      "metadata": {
        "colab": {
          "base_uri": "https://localhost:8080/"
        },
        "id": "jyB-WSMRL9DG",
        "outputId": "ab6c4768-bbba-4474-d6ff-c7caf6899bdb"
      },
      "execution_count": 3,
      "outputs": [
        {
          "output_type": "execute_result",
          "data": {
            "text/plain": [
              "{'head': {'vars': ['item', 'itemLabel']},\n",
              " 'results': {'bindings': [{'item': {'type': 'uri',\n",
              "     'value': 'http://www.wikidata.org/entity/Q2658150'},\n",
              "    'itemLabel': {'xml:lang': 'en', 'type': 'literal', 'value': 'Baker'}}]}}"
            ]
          },
          "metadata": {},
          "execution_count": 3
        }
      ]
    },
    {
      "cell_type": "code",
      "source": [],
      "metadata": {
        "id": "MyZiuUjkMlrR"
      },
      "execution_count": null,
      "outputs": []
    },
    {
      "cell_type": "code",
      "source": [],
      "metadata": {
        "id": "9JnlLcRmMlxb"
      },
      "execution_count": null,
      "outputs": []
    },
    {
      "cell_type": "markdown",
      "source": [
        "#### functions "
      ],
      "metadata": {
        "id": "67upHfNtN9mQ"
      }
    },
    {
      "cell_type": "code",
      "source": [
        "def get_itemlabel(query): \n",
        "  name_list = []\n",
        "  for x in query[\"results\"][\"bindings\"]: \n",
        "    name_list.append(x[\"itemLabel\"][\"value\"])\n",
        "  return name_list\n",
        "\n",
        "def retry(data): \n",
        "  response = requests.post('https://query.wikidata.org/sparql?format=json', data=data)\n",
        "  while response.status_code == 429:\n",
        "    retry_after = response.headers.get(\"Retry-After\")\n",
        "    if retry_after:\n",
        "      # If the value of \"Retry-After\" is a number, wait that many seconds\n",
        "      if retry_after.isdigit():\n",
        "        time.sleep(int(retry_after))\n",
        "        # If the value of \"Retry-After\" is a date, parse it and wait until that time\n",
        "      else:\n",
        "        retry_time = datetime.datetime.strptime(retry_after, \"%a, %d %b %Y %H:%M:%S GMT\")\n",
        "        if retry_time > datetime.datetime.now():\n",
        "          time.sleep((retry_time - datetime.datetime.now()).total_seconds())\n",
        "    # Try the request again\n",
        "    response = requests.post('https://query.wikidata.org/sparql?format=json', data=data)\n",
        "  res = response.json()\n",
        "  return res\n",
        "\n",
        "def find_fname_id(name): \n",
        "  find_fn_id_query_male = f'''SELECT DISTINCT ?item ?itemLabel WHERE \n",
        "  {{\n",
        "    ?item rdfs:label \"{name}\"@en;\n",
        "          wdt:P31 wd:Q12308941.\n",
        "    SERVICE wikibase:label {{ bd:serviceParam wikibase:language \"en\". }}\n",
        "  }}\n",
        "  '''\n",
        "  find_fn_id_query_female = f'''SELECT DISTINCT ?item ?itemLabel WHERE \n",
        "  {{\n",
        "    ?item rdfs:label \"{name}\"@en;\n",
        "          wdt:P31 wd:Q12308941.\n",
        "    SERVICE wikibase:label {{ bd:serviceParam wikibase:language \"en\". }}\n",
        "  }}\n",
        "  '''\n",
        "  data = {'query': find_fn_id_query_male}\n",
        "  res = retry(data)\n",
        "  if res['results']['bindings'] == []: \n",
        "    data = {'query': find_fn_id_query_female}\n",
        "    res = retry(data)\n",
        "  try:\n",
        "    id = res['results']['bindings'][0]['item']['value'].split('/')[-1]\n",
        "  except IndexError:\n",
        "    #print(f\"Cannot find first name id for {name}\")\n",
        "    id = []\n",
        "  return id\n",
        "\n",
        "def find_lname_id(name): \n",
        "  find_fn_id_query = f'''SELECT DISTINCT ?item ?itemLabel WHERE \n",
        "  {{\n",
        "    ?item rdfs:label \"{name}\"@en;\n",
        "          wdt:P31 wd:Q101352.\n",
        "    SERVICE wikibase:label {{ bd:serviceParam wikibase:language \"en\". }}\n",
        "  }}\n",
        "  '''\n",
        "  data = {'query': find_fn_id_query}\n",
        "  res = retry(data)\n",
        "  try:\n",
        "      id = res['results']['bindings'][0]['item']['value'].split('/')[-1]\n",
        "  except IndexError:\n",
        "      #print(f\"Cannot find last name id for {name}\")  \n",
        "      id = []  \n",
        "  return id\n",
        "\n",
        "def find_similar_from_id(id): \n",
        "  #find similar names from the ID just found for the target name\n",
        "  id = id\n",
        "  find_similar_query = f\"\"\"\n",
        "  SELECT DISTINCT ?item ?itemLabel WHERE \n",
        "  {{\n",
        "    SERVICE wikibase:label {{ bd:serviceParam wikibase:language \"en\". }}\n",
        "    {{\n",
        "      SELECT DISTINCT ?item WHERE {{\n",
        "        ?item p:P460 ?statement0.\n",
        "        ?statement0 (ps:P460/(wdt:P279*)) wd:{id}.\n",
        "      }}\n",
        "    }}\n",
        "  }}\n",
        "  \"\"\"\n",
        "  data = {'query': find_similar_query}\n",
        "  res = retry(data)\n",
        "  similar_name_list = get_itemlabel(res)\n",
        "  return similar_name_list\n",
        "\n",
        "def similar_full_names(name): \n",
        "  f_name, l_name = name.split(' ')\n",
        "\n",
        "  f_name_id = find_fname_id(f_name)\n",
        "  l_name_id = find_lname_id(l_name)\n",
        "\n",
        "  if f_name_id == [] and l_name_id != []: \n",
        "    fname_similar = []\n",
        "    lname_similar = find_similar_from_id(l_name_id)\n",
        "    fname_list = []\n",
        "    lname_list = [f_name + ' ' + sim_lname for sim_lname in lname_similar]\n",
        "  elif l_name_id == [] and f_name_id != []: \n",
        "    lname_similar = []\n",
        "    fname_similar = find_similar_from_id(f_name_id)\n",
        "    lname_list = []\n",
        "    fname_list = [sim_fname + ' ' + l_name for sim_fname in fname_similar]\n",
        "  elif f_name_id == [] and l_name_id == []: \n",
        "    fname_list = []\n",
        "    lname_list = []\n",
        "  else: \n",
        "    fname_similar = find_similar_from_id(f_name_id)\n",
        "    lname_similar = find_similar_from_id(l_name_id)\n",
        "\n",
        "    fname_list = [sim_fname + ' ' + l_name for sim_fname in fname_similar]\n",
        "    lname_list = [f_name + ' ' + sim_lname for sim_lname in lname_similar]\n",
        "  \n",
        "  similar_full_names = fname_list + lname_list\n",
        "  pair = {name: similar_full_names}\n",
        "  return pair\n",
        "\n",
        "def Merge(dict1, dict2):\n",
        "  return(dict2.update(dict1))"
      ],
      "metadata": {
        "id": "QROZ9l8GKICt"
      },
      "execution_count": 22,
      "outputs": []
    },
    {
      "cell_type": "markdown",
      "source": [
        "#### All the queries"
      ],
      "metadata": {
        "id": "clMxBeGFNwkM"
      }
    },
    {
      "cell_type": "code",
      "source": [
        "#QUERIES\n",
        "#find female and male politicians\n",
        "male_politicians_query = '''\n",
        "SELECT DISTINCT ?item ?itemLabel WHERE {\n",
        "  SERVICE wikibase:label { bd:serviceParam wikibase:language \"en\". }\n",
        "  {\n",
        "    SELECT DISTINCT ?item ?itemLabel WHERE {\n",
        "      ?item wdt:P106 wd:Q82955; \n",
        "            wdt:P21 wd:Q6581097.\n",
        "    }\n",
        "    ORDER BY RAND()\n",
        "  }\n",
        "  FILTER REGEX(?itemLabel, \"^[A-Za-z]+ [A-Za-z]+$\")\n",
        "}\n",
        "LIMIT 10\n",
        "'''\n",
        "#male Q6581097\n",
        "\n",
        "female_politicians_query = '''\n",
        "SELECT DISTINCT ?item ?itemLabel WHERE {\n",
        "  SERVICE wikibase:label { bd:serviceParam wikibase:language \"en\". }\n",
        "  {\n",
        "    SELECT DISTINCT ?item ?itemLabel WHERE {\n",
        "      ?item wdt:P106 wd:Q82955; \n",
        "            wdt:P21 wd:Q6581072.\n",
        "    }\n",
        "    ORDER BY RAND()\n",
        "  }\n",
        "  FILTER REGEX(?itemLabel, \"^[A-Za-z]+ [A-Za-z]+$\")\n",
        "}\n",
        "LIMIT 10\n",
        "'''\n",
        "#female Q6581072"
      ],
      "metadata": {
        "id": "oeJ6T58OJYpR"
      },
      "execution_count": 4,
      "outputs": []
    },
    {
      "cell_type": "code",
      "source": [],
      "metadata": {
        "id": "jyQM9wGyNjoG"
      },
      "execution_count": null,
      "outputs": []
    },
    {
      "cell_type": "code",
      "source": [],
      "metadata": {
        "id": "P59O_edToFZS"
      },
      "execution_count": null,
      "outputs": []
    },
    {
      "cell_type": "markdown",
      "source": [
        "####requests and the rest"
      ],
      "metadata": {
        "id": "GsvaQ5x0N0Zf"
      }
    },
    {
      "cell_type": "code",
      "source": [
        "data = {'query': male_politicians_query}\n",
        "response = requests.post('https://query.wikidata.org/sparql?format=json', data=data)\n",
        "data = response.json()\n",
        "\n",
        "male_politicans = [ x[\"itemLabel\"][\"value\"] for x in data['results']['bindings']]"
      ],
      "metadata": {
        "id": "D6e9a2eqKEEK"
      },
      "execution_count": 12,
      "outputs": []
    },
    {
      "cell_type": "code",
      "source": [
        "data = {'query': female_politicians_query}\n",
        "response = requests.post('https://query.wikidata.org/sparql?format=json', data=data)\n",
        "data = response.json()\n",
        "\n",
        "female_politicans = [ x[\"itemLabel\"][\"value\"] for x in data['results']['bindings']]"
      ],
      "metadata": {
        "id": "io6IYnnuKIAZ"
      },
      "execution_count": 13,
      "outputs": []
    },
    {
      "cell_type": "code",
      "source": [
        "for name in male_politicans: \n",
        "  print(similar_full_names(name))"
      ],
      "metadata": {
        "id": "Y_Kvh8OlKIGP",
        "colab": {
          "base_uri": "https://localhost:8080/"
        },
        "outputId": "55e1681a-ea37-4837-9a02-56d23f14ce53"
      },
      "execution_count": 14,
      "outputs": [
        {
          "output_type": "stream",
          "name": "stdout",
          "text": [
            "{'Friedrich Raschig': ['Fred Raschig', 'Frederick Raschig', 'Fredrik Raschig', 'Fridolin Raschig', 'Frigyes Raschig', 'Fridericus Raschig', 'Friedrik Raschig', 'Frederic Raschig', 'Federico Raschig', 'Frederik Raschig', 'Friederich Raschig', 'Frédéric Raschig', 'Bedřich Raschig', 'Fryderyk Raschig', 'Frederig Raschig', 'Freerk Raschig', 'Frederiko Raschig', 'Frédérik Raschig', 'Fick Raschig', 'Fryco Raschig', 'Bjedrich Raschig']}\n",
            "{'Alexander Radwan': ['Aleksandar Radwan', 'Aleksandar Radwan', 'Sandy Radwan', 'Alejandro Radwan', 'Sandro Radwan', 'Olexandr Radwan', 'Alistair Radwan', 'Alex Radwan', 'Sándor Radwan', 'Alexandre Radwan', 'Alessandro Radwan', 'Aleksandr Radwan', 'Skender Radwan', 'Alissandru Radwan', 'Alexandru Radwan', 'Oleksandr Radwan', 'Alexandr Radwan', 'Aleksander Radwan', 'Aleksandrs Radwan', 'Lissander Radwan', 'Iskandar Radwan', 'Xander Radwan', 'Aleksandras Radwan', 'Lisandro Radwan', 'Aleksandr Radwan', 'Aleks Radwan', 'Aleksandro Radwan', 'Aleksandar Radwan', 'Lissandri Radwan', 'Lisàndar Radwan', 'Aleksanteri Radwan', 'Alexandres Radwan', 'Àlex Radwan', 'Xan Radwan', 'Q112254054 Radwan']}\n",
            "{'Alfred Kurella': ['Alfredo Kurella', 'Fred Kurella', 'Alfréd Kurella', 'Alfreð Kurella', 'Alfrēds Kurella']}\n",
            "{'Karl Bechert': ['Carlos Bechert', 'Carles Bechert', 'Charles Bechert', 'Carl Bechert', 'Karol Bechert', 'Károly Bechert', 'Carlo Bechert', 'Kaarle Bechert', 'Carolus Bechert', 'Kārlis Bechert', 'Carel Bechert', 'Karel Bechert', 'Karlo Bechert', 'Siarl Bechert', 'Charlez Bechert', 'Kaarlo Bechert', 'Karolis Bechert']}\n",
            "{'Karl Twesten': ['Carlos Twesten', 'Carles Twesten', 'Charles Twesten', 'Carl Twesten', 'Karol Twesten', 'Károly Twesten', 'Carlo Twesten', 'Kaarle Twesten', 'Carolus Twesten', 'Kārlis Twesten', 'Carel Twesten', 'Karel Twesten', 'Karlo Twesten', 'Siarl Twesten', 'Charlez Twesten', 'Kaarlo Twesten', 'Karolis Twesten']}\n",
            "{'Paul Merker': ['Pablo Merker', 'Pau Merker', 'Paulos Merker', 'Páll Merker', 'Pavel Merker', 'Paulino Merker', 'Paavo Merker', 'Pavol Merker', 'Pavlos Merker', 'Paweł Merker', 'Pol Merker', 'Pavlo Merker', 'Paolo Merker', 'Pål Merker', 'Paulo Merker', 'Pauli Merker', 'Pavle Merker', 'Poul Merker', 'Povilas Merker', 'Paol Merker', 'Phaolô Merker', 'Pawel Merker', 'Pál Merker', 'Paulí Merker', 'Pauls Merker', 'Povl Merker', 'Paúl Merker', 'Pavlos Merker', 'Boghos Merker']}\n",
            "{'Jakob Rosenfeld': ['Jacques Rosenfeld', 'James Rosenfeld', 'Jakub Rosenfeld', 'Diego Rosenfeld', 'Iacopo Rosenfeld', 'Yakub Rosenfeld', 'Yakup Rosenfeld', 'Jaakko Rosenfeld', 'Jacopo Rosenfeld', 'Santiago Rosenfeld', 'Jaime Rosenfeld', 'Jim Rosenfeld', 'Jacobus Rosenfeld', 'Giacomo Rosenfeld', 'Jacobo Rosenfeld', 'Yakov Rosenfeld', 'Séamus Rosenfeld', 'Jakez Rosenfeld', 'Jaume Rosenfeld', 'Jacob Rosenfeld', 'Iacobus Rosenfeld', 'Jacó Rosenfeld', 'Jakab Rosenfeld', 'Jaco Rosenfeld', 'Yakov Rosenfeld', 'Jämes Rosenfeld', 'Iacob Rosenfeld', 'Jockel Rosenfeld', 'Yaacov Rosenfeld', 'Jokūbas Rosenfeld', 'Yacob Rosenfeld', 'Jacco Rosenfeld', 'Jakov Rosenfeld', 'Jakue Rosenfeld', 'Iakoba Rosenfeld', 'Yakiv Rosenfeld', 'Jiminy Rosenfeld', 'Jaakob Rosenfeld', 'Chaime Rosenfeld']}\n",
            "{'Ignaz Kuranda': ['Iñaki Kuranda', 'Ignazio Kuranda', 'Inácio Kuranda', 'Ignacio Kuranda', 'Ignatius Kuranda', 'Ignace Kuranda', 'Ignacy Kuranda', 'Ignacas Kuranda', 'Ignasi Kuranda', 'Ignas Kuranda', 'Ignaco Kuranda', 'Ignác Kuranda', 'Ignjat Kuranda', 'Ignac Kuranda']}\n",
            "{'Valentin Ivanov': ['Valente Ivanov', 'Valentino Ivanov', 'Valentí Ivanov', 'Valentinus Ivanov', 'Valentin Ivanov', 'Bálint Ivanov', 'Valenteno Ivanov', 'Valentín Ivanov', 'Walenty Ivanov', 'Valiancin Ivanov', 'Valentīns Ivanov', 'Valentínus Ivanov', 'Valentýn Ivanov', 'Valentin Ivanoff', 'Valentin Ivanovs', 'Valentin Ivanow', 'Valentin Ivanov', 'Valentin Ivanow', 'Valentin Ivaniv', 'Valentin Ivanov']}\n",
            "{'Guido Schmidt': ['Guy Schmidt', 'Gvido Schmidt', 'Gvidas Schmidt', 'Quido Schmidt', 'Guidotto Schmidt', 'Gwijde Schmidt', 'Gvidonas Schmidt', 'Gwidon Schmidt', 'Guiu Schmidt', 'Guido Smith', 'Guido Schmid', 'Guido Schmitt', 'Guido Schmit', 'Guido Schmitz', 'Guido Smitt', 'Guido Szmidt', 'Guido Schmied', 'Guido Smidt', 'Guido Schmidin']}\n"
          ]
        }
      ]
    },
    {
      "cell_type": "code",
      "source": [
        "for name in female_politicans: \n",
        "  print(similar_full_names(name)) "
      ],
      "metadata": {
        "colab": {
          "base_uri": "https://localhost:8080/"
        },
        "id": "eXkxMxsViXsF",
        "outputId": "e3881d1a-5245-4ecb-87a5-cc161de49be8"
      },
      "execution_count": 26,
      "outputs": [
        {
          "output_type": "stream",
          "name": "stdout",
          "text": [
            "{'Zahra Mohammadzadeh': []}\n",
            "{'Yukiko Kada': []}\n",
            "{'Maud Olofsson': ['Maud Olafsen', 'Maud Ólafsson', 'Maud Olavsen', 'Maud Olovson', 'Maud Olafson', 'Maud Olavson', 'Maud Olavsson', 'Maud Olafsson']}\n",
            "{'Salome I': ['Salome Li', 'Salome Lee']}\n",
            "{'Oona King': ['Oona Rey', 'Oona König', 'Oona Re', 'Oona Rei', 'Oona Roi', 'Oona Koning']}\n",
            "{'Carly Fiorina': []}\n",
            "{'Xie Jun': ['Xie Jūn', 'Xie Jūn', 'Xie Jùn']}\n",
            "{'Malalai Joya': []}\n",
            "{'Margaret Hamilton': []}\n",
            "{'Anna Harrison': []}\n"
          ]
        }
      ]
    },
    {
      "cell_type": "code",
      "source": [
        "print(similar_full_names(\"Joshua Baker\"))"
      ],
      "metadata": {
        "id": "aCpWJf9oKEVR",
        "colab": {
          "base_uri": "https://localhost:8080/"
        },
        "outputId": "6e505017-4801-41f1-99cf-129b45e43e96"
      },
      "execution_count": 30,
      "outputs": [
        {
          "output_type": "stream",
          "name": "stdout",
          "text": [
            "{'Joshua Baker': ['Joshuah Baker', 'Josh Baker', 'Jozue Baker', 'Josua Baker', 'Joosua Baker', 'Yosua Baker', 'Josuah Baker', 'Giosuè Baker', 'Yehoshua Baker', 'Joshua Bäcker', 'Joshua Bakker', 'Joshua Becker', 'Joshua Boulanger', 'Joshua Boulenger']}\n"
          ]
        }
      ]
    }
  ]
}