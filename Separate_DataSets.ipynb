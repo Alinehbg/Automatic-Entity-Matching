{
  "cells": [
    {
      "cell_type": "markdown",
      "metadata": {
        "id": "view-in-github"
      },
      "source": [
        "<a href=\"https://colab.research.google.com/github/Alinehbg/CRP/blob/Anmol_Trial/Extract%20Names/Extract_Wiki_Data_names_try_10.ipynb\" target=\"_parent\"><img src=\"https://colab.research.google.com/assets/colab-badge.svg\" alt=\"Open In Colab\"/></a>"
      ]
    },
    {
      "cell_type": "code",
      "execution_count": 1,
      "metadata": {
        "id": "PGVdC2zoVCeE"
      },
      "outputs": [],
      "source": [
        "import requests\n",
        "import pandas as pd\n",
        "import os\n",
        "import json"
      ]
    },
    {
      "cell_type": "code",
      "execution_count": 2,
      "metadata": {
        "id": "ORsGLFfNJLAE",
        "colab": {
          "base_uri": "https://localhost:8080/"
        },
        "outputId": "aa807c45-1c6d-4d26-d36b-8fcaadde1524"
      },
      "outputs": [
        {
          "output_type": "stream",
          "name": "stdout",
          "text": [
            "Mounted at /content/drive\n"
          ]
        }
      ],
      "source": [
        "from google.colab import drive\n",
        "drive.mount('/content/drive')"
      ]
    },
    {
      "cell_type": "code",
      "execution_count": null,
      "metadata": {
        "id": "g5qYvvhyqjK9"
      },
      "outputs": [],
      "source": [
        "names = pd.read_excel('/content/drive/MyDrive/CRP/Datasets/Dataset.xlsx')\n",
        "names['Name'] = names.apply (lambda x: x['Name'].replace(\".\",\"\") , axis = 1)\n",
        "names['Name_Length'] = names.apply(lambda x: len(x['Name'].split(\" \")), axis = 1)\n",
        "names['First_Name_Length'] = names.apply(lambda x: len(x['Name'].split(\" \")[0]), axis = 1)\n",
        "names = names.loc[names['Name_Length'] == 2]\n",
        "names = names.loc[names['First_Name_Length'] > 1]\n",
        "names['Name'] = names.apply(lambda x: x['Name'].title(), axis = 1 )\n",
        "names = names[[\"Name\"]]\n",
        "names_list = list(names['Name'])\n",
        "names_list = list(set(names_list))\n",
        "names.to_csv('/content/drive/MyDrive/CRP/Datasets/Names_list.csv')"
      ]
    },
    {
      "cell_type": "code",
      "execution_count": 5,
      "metadata": {
        "id": "6d5mnOB_N2wt"
      },
      "outputs": [],
      "source": [
        "names = pd.read_csv('/content/drive/MyDrive/CRP/Datasets/Names_list.csv')\n",
        "Anmol = names.iloc[0:2000]\n",
        "Aline = names.iloc[2001:4000]\n",
        "Emma = names.iloc[4001:6000]\n",
        "Sanjana = names.iloc[6001:8000]\n",
        "Joshua = names.iloc[8001:10000]"
      ]
    },
    {
      "cell_type": "code",
      "source": [
        "Anmol.to_csv('/content/drive/MyDrive/CRP/Datasets/Anmol.csv')\n",
        "Aline.to_csv('/content/drive/MyDrive/CRP/Datasets/Aline.csv')\n",
        "Emma.to_csv('/content/drive/MyDrive/CRP/Datasets/Emma.csv')\n",
        "Sanjana.to_csv('/content/drive/MyDrive/CRP/Datasets/Sanjana.csv')\n",
        "Joshua.to_csv('/content/drive/MyDrive/CRP/Datasets/Joshua.csv')"
      ],
      "metadata": {
        "id": "wgHgPNTcZ36v"
      },
      "execution_count": 6,
      "outputs": []
    }
  ],
  "metadata": {
    "colab": {
      "provenance": []
    },
    "kernelspec": {
      "display_name": "Python 3",
      "language": "python",
      "name": "python3"
    },
    "language_info": {
      "codemirror_mode": {
        "name": "ipython",
        "version": 3
      },
      "file_extension": ".py",
      "mimetype": "text/x-python",
      "name": "python",
      "nbconvert_exporter": "python",
      "pygments_lexer": "ipython3",
      "version": "3.7.4"
    },
    "vscode": {
      "interpreter": {
        "hash": "40d3a090f54c6569ab1632332b64b2c03c39dcf918b08424e98f38b5ae0af88f"
      }
    }
  },
  "nbformat": 4,
  "nbformat_minor": 0
}